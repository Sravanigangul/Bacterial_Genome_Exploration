{
 "cells": [
  {
   "cell_type": "markdown",
   "metadata": {},
   "source": [
    "## Aims\n",
    "\n",
    "1. Understand the basics of AMR testing, the data formats and limitations\n",
    "2. Understand the basics of sequencing methods and the types of data available to work with\n",
    "3. Learn where to find publicly available data and how to access it\n",
    "4. Perform initial data processing to transform into a usable format for further explorations"
   ]
  },
  {
   "cell_type": "markdown",
   "metadata": {},
   "source": [
    "### Imports"
   ]
  },
  {
   "cell_type": "code",
   "execution_count": 2,
   "metadata": {},
   "outputs": [],
   "source": [
    "import bz2\n",
    "import os\n",
    "import subprocess\n",
    "import requests\n",
    "\n",
    "import pandas as pd"
   ]
  },
  {
   "cell_type": "markdown",
   "metadata": {},
   "source": [
    "## 1. Explore BV-BRC\n",
    "\n",
    "Here is a link to the BV-BRC (Bacterial and Viral Bioinformatics Resource Center) website: https://www.bv-brc.org/\n",
    "\n",
    "Take some time to look around the website and think about the following: What data looks relevant for our modeling task and how will we access it?\n",
    "\n",
    "<div class=\"question\" style=\"color: #534646; background-color: #ffdfa3; padding: 1px; border-radius: 5px;\">\n",
    "\n",
    "##### Q. Any areas that stand out as interesting?\n",
    "\n",
    "</div>"
   ]
  },
  {
   "cell_type": "markdown",
   "metadata": {},
   "source": [
    "## 2. Download AMR Phenotypes\n",
    "\n",
    "For this project we'll focus on `Escherchia coli` - one of the most common pathogens infecting humans, and one which is well studied and categorized.\n",
    "\n",
    "To start with we'll look at collecting our target data (AMR Phenotype) and work backwards from there to collect all the data we'll need for modeling."
   ]
  },
  {
   "cell_type": "markdown",
   "metadata": {},
   "source": [
    "#### 2a. Download Data \n",
    "\n",
    "We're using subprocess here to allow us to call a command line tool directly in our notebook - if WGET isn't installed on your system you can also skip the below and grab the file from the `data/` folder in the GitHub repo"
   ]
  },
  {
   "cell_type": "code",
   "execution_count": 3,
   "metadata": {},
   "outputs": [
    {
     "data": {
      "text/plain": [
       "CompletedProcess(args=['wget', 'ftp://ftp.bvbrc.org/RELEASE_NOTES/PATRIC_genomes_AMR.txt'], returncode=0)"
      ]
     },
     "execution_count": 3,
     "metadata": {},
     "output_type": "execute_result"
    }
   ],
   "source": [
    "genome_amr_ftp = 'ftp://ftp.bvbrc.org/RELEASE_NOTES/PATRIC_genomes_AMR.txt'\n",
    "subprocess.run(['wget', genome_amr_ftp], capture_output=False, stdout=subprocess.DEVNULL, stderr=subprocess.STDOUT)"
   ]
  },
  {
   "cell_type": "markdown",
   "metadata": {},
   "source": [
    "#### 2b. Review Downloaded Data\n",
    "\n",
    "Lets take a look at the data we just downloaded:"
   ]
  },
  {
   "cell_type": "code",
   "execution_count": 4,
   "metadata": {},
   "outputs": [
    {
     "name": "stdout",
     "output_type": "stream",
     "text": [
      "Data shape: (750541, 16)\n",
      "\n"
     ]
    },
    {
     "data": {
      "text/html": [
       "<div>\n",
       "<style scoped>\n",
       "    .dataframe tbody tr th:only-of-type {\n",
       "        vertical-align: middle;\n",
       "    }\n",
       "\n",
       "    .dataframe tbody tr th {\n",
       "        vertical-align: top;\n",
       "    }\n",
       "\n",
       "    .dataframe thead th {\n",
       "        text-align: right;\n",
       "    }\n",
       "</style>\n",
       "<table border=\"1\" class=\"dataframe\">\n",
       "  <thead>\n",
       "    <tr style=\"text-align: right;\">\n",
       "      <th></th>\n",
       "      <th>genome_id</th>\n",
       "      <th>genome_name</th>\n",
       "      <th>taxon_id</th>\n",
       "      <th>antibiotic</th>\n",
       "      <th>resistant_phenotype</th>\n",
       "      <th>measurement</th>\n",
       "      <th>measurement_sign</th>\n",
       "      <th>measurement_value</th>\n",
       "      <th>measurement_unit</th>\n",
       "      <th>laboratory_typing_method</th>\n",
       "      <th>laboratory_typing_method_version</th>\n",
       "      <th>laboratory_typing_platform</th>\n",
       "      <th>vendor</th>\n",
       "      <th>testing_standard</th>\n",
       "      <th>testing_standard_year</th>\n",
       "      <th>source</th>\n",
       "    </tr>\n",
       "  </thead>\n",
       "  <tbody>\n",
       "    <tr>\n",
       "      <th>0</th>\n",
       "      <td>32002.4</td>\n",
       "      <td>Achromobacter denitrificans strain USDA-ARS-US...</td>\n",
       "      <td>32002.0</td>\n",
       "      <td>ampicillin</td>\n",
       "      <td>NaN</td>\n",
       "      <td>==16</td>\n",
       "      <td>==</td>\n",
       "      <td>16</td>\n",
       "      <td>mg/L</td>\n",
       "      <td>Broth dilution</td>\n",
       "      <td>NaN</td>\n",
       "      <td>Sensititre</td>\n",
       "      <td>Trek Diagnostic Systems</td>\n",
       "      <td>CLSI</td>\n",
       "      <td>NaN</td>\n",
       "      <td>NaN</td>\n",
       "    </tr>\n",
       "    <tr>\n",
       "      <th>1</th>\n",
       "      <td>32002.4</td>\n",
       "      <td>Achromobacter denitrificans strain USDA-ARS-US...</td>\n",
       "      <td>32002.0</td>\n",
       "      <td>ceftiofur</td>\n",
       "      <td>NaN</td>\n",
       "      <td>&gt;8</td>\n",
       "      <td>&gt;</td>\n",
       "      <td>8</td>\n",
       "      <td>mg/L</td>\n",
       "      <td>Broth dilution</td>\n",
       "      <td>NaN</td>\n",
       "      <td>Sensititre</td>\n",
       "      <td>Trek Diagnostic Systems</td>\n",
       "      <td>CLSI</td>\n",
       "      <td>NaN</td>\n",
       "      <td>NaN</td>\n",
       "    </tr>\n",
       "    <tr>\n",
       "      <th>2</th>\n",
       "      <td>32002.4</td>\n",
       "      <td>Achromobacter denitrificans strain USDA-ARS-US...</td>\n",
       "      <td>32002.0</td>\n",
       "      <td>chlortetracycline</td>\n",
       "      <td>NaN</td>\n",
       "      <td>==8</td>\n",
       "      <td>==</td>\n",
       "      <td>8</td>\n",
       "      <td>mg/L</td>\n",
       "      <td>Broth dilution</td>\n",
       "      <td>NaN</td>\n",
       "      <td>Sensititre</td>\n",
       "      <td>Trek Diagnostic Systems</td>\n",
       "      <td>CLSI</td>\n",
       "      <td>NaN</td>\n",
       "      <td>NaN</td>\n",
       "    </tr>\n",
       "    <tr>\n",
       "      <th>3</th>\n",
       "      <td>32002.4</td>\n",
       "      <td>Achromobacter denitrificans strain USDA-ARS-US...</td>\n",
       "      <td>32002.0</td>\n",
       "      <td>clindamycin</td>\n",
       "      <td>NaN</td>\n",
       "      <td>&gt;16</td>\n",
       "      <td>&gt;</td>\n",
       "      <td>16</td>\n",
       "      <td>mg/L</td>\n",
       "      <td>Broth dilution</td>\n",
       "      <td>NaN</td>\n",
       "      <td>Sensititre</td>\n",
       "      <td>Trek Diagnostic Systems</td>\n",
       "      <td>CLSI</td>\n",
       "      <td>NaN</td>\n",
       "      <td>NaN</td>\n",
       "    </tr>\n",
       "    <tr>\n",
       "      <th>4</th>\n",
       "      <td>32002.4</td>\n",
       "      <td>Achromobacter denitrificans strain USDA-ARS-US...</td>\n",
       "      <td>32002.0</td>\n",
       "      <td>danofloxacin</td>\n",
       "      <td>NaN</td>\n",
       "      <td>==1</td>\n",
       "      <td>==</td>\n",
       "      <td>1</td>\n",
       "      <td>mg/L</td>\n",
       "      <td>Broth dilution</td>\n",
       "      <td>NaN</td>\n",
       "      <td>Sensititre</td>\n",
       "      <td>Trek Diagnostic Systems</td>\n",
       "      <td>CLSI</td>\n",
       "      <td>NaN</td>\n",
       "      <td>NaN</td>\n",
       "    </tr>\n",
       "  </tbody>\n",
       "</table>\n",
       "</div>"
      ],
      "text/plain": [
       "   genome_id                                        genome_name  taxon_id  \\\n",
       "0    32002.4  Achromobacter denitrificans strain USDA-ARS-US...   32002.0   \n",
       "1    32002.4  Achromobacter denitrificans strain USDA-ARS-US...   32002.0   \n",
       "2    32002.4  Achromobacter denitrificans strain USDA-ARS-US...   32002.0   \n",
       "3    32002.4  Achromobacter denitrificans strain USDA-ARS-US...   32002.0   \n",
       "4    32002.4  Achromobacter denitrificans strain USDA-ARS-US...   32002.0   \n",
       "\n",
       "          antibiotic resistant_phenotype measurement measurement_sign  \\\n",
       "0         ampicillin                 NaN        ==16               ==   \n",
       "1          ceftiofur                 NaN          >8                >   \n",
       "2  chlortetracycline                 NaN         ==8               ==   \n",
       "3        clindamycin                 NaN         >16                >   \n",
       "4       danofloxacin                 NaN         ==1               ==   \n",
       "\n",
       "  measurement_value measurement_unit laboratory_typing_method  \\\n",
       "0                16             mg/L           Broth dilution   \n",
       "1                 8             mg/L           Broth dilution   \n",
       "2                 8             mg/L           Broth dilution   \n",
       "3                16             mg/L           Broth dilution   \n",
       "4                 1             mg/L           Broth dilution   \n",
       "\n",
       "  laboratory_typing_method_version laboratory_typing_platform  \\\n",
       "0                              NaN                 Sensititre   \n",
       "1                              NaN                 Sensititre   \n",
       "2                              NaN                 Sensititre   \n",
       "3                              NaN                 Sensititre   \n",
       "4                              NaN                 Sensititre   \n",
       "\n",
       "                    vendor testing_standard  testing_standard_year source  \n",
       "0  Trek Diagnostic Systems             CLSI                    NaN    NaN  \n",
       "1  Trek Diagnostic Systems             CLSI                    NaN    NaN  \n",
       "2  Trek Diagnostic Systems             CLSI                    NaN    NaN  \n",
       "3  Trek Diagnostic Systems             CLSI                    NaN    NaN  \n",
       "4  Trek Diagnostic Systems             CLSI                    NaN    NaN  "
      ]
     },
     "execution_count": 4,
     "metadata": {},
     "output_type": "execute_result"
    }
   ],
   "source": [
    "amr_data = pd.read_csv('PATRIC_genomes_AMR.txt', sep='\\t', low_memory=False)\n",
    "print(f'Data shape: {amr_data.shape}\\n')\n",
    "amr_data.head(5)"
   ]
  },
  {
   "cell_type": "code",
   "execution_count": 5,
   "metadata": {},
   "outputs": [
    {
     "data": {
      "text/html": [
       "<div>\n",
       "<style scoped>\n",
       "    .dataframe tbody tr th:only-of-type {\n",
       "        vertical-align: middle;\n",
       "    }\n",
       "\n",
       "    .dataframe tbody tr th {\n",
       "        vertical-align: top;\n",
       "    }\n",
       "\n",
       "    .dataframe thead th {\n",
       "        text-align: right;\n",
       "    }\n",
       "</style>\n",
       "<table border=\"1\" class=\"dataframe\">\n",
       "  <thead>\n",
       "    <tr style=\"text-align: right;\">\n",
       "      <th></th>\n",
       "      <th>genome_id</th>\n",
       "      <th>genome_name</th>\n",
       "      <th>taxon_id</th>\n",
       "      <th>antibiotic</th>\n",
       "      <th>resistant_phenotype</th>\n",
       "      <th>measurement</th>\n",
       "      <th>measurement_sign</th>\n",
       "      <th>measurement_value</th>\n",
       "      <th>measurement_unit</th>\n",
       "      <th>laboratory_typing_method</th>\n",
       "      <th>laboratory_typing_method_version</th>\n",
       "      <th>laboratory_typing_platform</th>\n",
       "      <th>vendor</th>\n",
       "      <th>testing_standard</th>\n",
       "      <th>testing_standard_year</th>\n",
       "      <th>source</th>\n",
       "    </tr>\n",
       "  </thead>\n",
       "  <tbody>\n",
       "    <tr>\n",
       "      <th>38904</th>\n",
       "      <td>562.964200</td>\n",
       "      <td>Citrobacter freundii 3553</td>\n",
       "      <td>562.0</td>\n",
       "      <td>colistin</td>\n",
       "      <td>NaN</td>\n",
       "      <td>2</td>\n",
       "      <td>NaN</td>\n",
       "      <td>2</td>\n",
       "      <td>mg/L</td>\n",
       "      <td>Broth dilution</td>\n",
       "      <td>NaN</td>\n",
       "      <td>NaN</td>\n",
       "      <td>Merlin Diagnostika</td>\n",
       "      <td>EUCAST</td>\n",
       "      <td>2019.0</td>\n",
       "      <td>NaN</td>\n",
       "    </tr>\n",
       "    <tr>\n",
       "      <th>72978</th>\n",
       "      <td>562.100421</td>\n",
       "      <td>Escherichia coli 00116690-7bb9-11e9-a8d3-68b59...</td>\n",
       "      <td>562.0</td>\n",
       "      <td>ampicillin</td>\n",
       "      <td>Susceptible</td>\n",
       "      <td>NaN</td>\n",
       "      <td>NaN</td>\n",
       "      <td>NaN</td>\n",
       "      <td>NaN</td>\n",
       "      <td>Disk diffusion</td>\n",
       "      <td>NaN</td>\n",
       "      <td>NaN</td>\n",
       "      <td>NaN</td>\n",
       "      <td>EUCAST</td>\n",
       "      <td>NaN</td>\n",
       "      <td>NaN</td>\n",
       "    </tr>\n",
       "    <tr>\n",
       "      <th>72979</th>\n",
       "      <td>562.100421</td>\n",
       "      <td>Escherichia coli 00116690-7bb9-11e9-a8d3-68b59...</td>\n",
       "      <td>562.0</td>\n",
       "      <td>cefotaxime</td>\n",
       "      <td>Susceptible</td>\n",
       "      <td>NaN</td>\n",
       "      <td>NaN</td>\n",
       "      <td>NaN</td>\n",
       "      <td>NaN</td>\n",
       "      <td>Disk diffusion</td>\n",
       "      <td>NaN</td>\n",
       "      <td>NaN</td>\n",
       "      <td>NaN</td>\n",
       "      <td>EUCAST</td>\n",
       "      <td>NaN</td>\n",
       "      <td>NaN</td>\n",
       "    </tr>\n",
       "    <tr>\n",
       "      <th>72980</th>\n",
       "      <td>562.100421</td>\n",
       "      <td>Escherichia coli 00116690-7bb9-11e9-a8d3-68b59...</td>\n",
       "      <td>562.0</td>\n",
       "      <td>ceftazidime</td>\n",
       "      <td>Susceptible</td>\n",
       "      <td>NaN</td>\n",
       "      <td>NaN</td>\n",
       "      <td>NaN</td>\n",
       "      <td>NaN</td>\n",
       "      <td>Disk diffusion</td>\n",
       "      <td>NaN</td>\n",
       "      <td>NaN</td>\n",
       "      <td>NaN</td>\n",
       "      <td>EUCAST</td>\n",
       "      <td>NaN</td>\n",
       "      <td>NaN</td>\n",
       "    </tr>\n",
       "    <tr>\n",
       "      <th>72981</th>\n",
       "      <td>562.100421</td>\n",
       "      <td>Escherichia coli 00116690-7bb9-11e9-a8d3-68b59...</td>\n",
       "      <td>562.0</td>\n",
       "      <td>cefuroxime</td>\n",
       "      <td>Resistant</td>\n",
       "      <td>NaN</td>\n",
       "      <td>NaN</td>\n",
       "      <td>NaN</td>\n",
       "      <td>NaN</td>\n",
       "      <td>Disk diffusion</td>\n",
       "      <td>NaN</td>\n",
       "      <td>NaN</td>\n",
       "      <td>NaN</td>\n",
       "      <td>EUCAST</td>\n",
       "      <td>NaN</td>\n",
       "      <td>NaN</td>\n",
       "    </tr>\n",
       "  </tbody>\n",
       "</table>\n",
       "</div>"
      ],
      "text/plain": [
       "        genome_id                                        genome_name  \\\n",
       "38904  562.964200                          Citrobacter freundii 3553   \n",
       "72978  562.100421  Escherichia coli 00116690-7bb9-11e9-a8d3-68b59...   \n",
       "72979  562.100421  Escherichia coli 00116690-7bb9-11e9-a8d3-68b59...   \n",
       "72980  562.100421  Escherichia coli 00116690-7bb9-11e9-a8d3-68b59...   \n",
       "72981  562.100421  Escherichia coli 00116690-7bb9-11e9-a8d3-68b59...   \n",
       "\n",
       "       taxon_id   antibiotic resistant_phenotype measurement measurement_sign  \\\n",
       "38904     562.0     colistin                 NaN           2              NaN   \n",
       "72978     562.0   ampicillin         Susceptible         NaN              NaN   \n",
       "72979     562.0   cefotaxime         Susceptible         NaN              NaN   \n",
       "72980     562.0  ceftazidime         Susceptible         NaN              NaN   \n",
       "72981     562.0   cefuroxime           Resistant         NaN              NaN   \n",
       "\n",
       "      measurement_value measurement_unit laboratory_typing_method  \\\n",
       "38904                 2             mg/L           Broth dilution   \n",
       "72978               NaN              NaN           Disk diffusion   \n",
       "72979               NaN              NaN           Disk diffusion   \n",
       "72980               NaN              NaN           Disk diffusion   \n",
       "72981               NaN              NaN           Disk diffusion   \n",
       "\n",
       "      laboratory_typing_method_version laboratory_typing_platform  \\\n",
       "38904                              NaN                        NaN   \n",
       "72978                              NaN                        NaN   \n",
       "72979                              NaN                        NaN   \n",
       "72980                              NaN                        NaN   \n",
       "72981                              NaN                        NaN   \n",
       "\n",
       "                   vendor testing_standard  testing_standard_year source  \n",
       "38904  Merlin Diagnostika           EUCAST                 2019.0    NaN  \n",
       "72978                 NaN           EUCAST                    NaN    NaN  \n",
       "72979                 NaN           EUCAST                    NaN    NaN  \n",
       "72980                 NaN           EUCAST                    NaN    NaN  \n",
       "72981                 NaN           EUCAST                    NaN    NaN  "
      ]
     },
     "execution_count": 5,
     "metadata": {},
     "output_type": "execute_result"
    }
   ],
   "source": [
    "escherichia_coli_tax_id = 562\n",
    "\n",
    "amr_data = amr_data[amr_data.taxon_id == escherichia_coli_tax_id]\n",
    "amr_data.head(5)"
   ]
  },
  {
   "cell_type": "code",
   "execution_count": 6,
   "metadata": {},
   "outputs": [
    {
     "data": {
      "text/plain": [
       "antibiotic                   resistant_phenotype\n",
       "amikacin                     Intermediate             83\n",
       "                             Resistant                26\n",
       "                             Susceptible            2075\n",
       "amoxicillin                  Intermediate             77\n",
       "                             Resistant              1042\n",
       "                             Susceptible             734\n",
       "amoxicillin/clavulanic acid  Intermediate             94\n",
       "                             Resistant              1216\n",
       "                             Susceptible            2766\n",
       "ampicillin                   Intermediate             13\n",
       "Name: count, dtype: int64"
      ]
     },
     "execution_count": 6,
     "metadata": {},
     "output_type": "execute_result"
    }
   ],
   "source": [
    "amr_data.value_counts(['antibiotic', 'resistant_phenotype']).sort_index().head(10)"
   ]
  },
  {
   "cell_type": "markdown",
   "metadata": {},
   "source": [
    "Far too many to deal with - lets subset down to just a single antibiotic of interest. Much like species selection we could expand out to more antibiotics be for now we'll be focusing on just: **cefepime**\n",
    "\n",
    "Further details on cefepime can be found on the NCBI's website: https://www.ncbi.nlm.nih.gov/books/NBK542232/\n",
    "\n",
    "At a high level:\n",
    "1. Cefepime is a fourth generation cephalosporin in the beta-lactam class\n",
    "2. Cefepime acts by binding to the bacteria and preventing cell wall formation\n",
    "3. Escherichia coli is know to develop resistance in some cases to do beta-lactamase production"
   ]
  },
  {
   "cell_type": "markdown",
   "metadata": {},
   "source": [
    "#### 2c. Subset to Cefepime Antibiotic\n"
   ]
  },
  {
   "cell_type": "code",
   "execution_count": 7,
   "metadata": {},
   "outputs": [],
   "source": [
    "amr_data = amr_data[amr_data.antibiotic == 'cefepime']"
   ]
  },
  {
   "cell_type": "code",
   "execution_count": 8,
   "metadata": {},
   "outputs": [
    {
     "data": {
      "text/plain": [
       "resistant_phenotype\n",
       "Susceptible                   865\n",
       "Resistant                     161\n",
       "missing                       108\n",
       "Intermediate                   56\n",
       "Susceptible-dose dependent      1\n",
       "Name: count, dtype: int64"
      ]
     },
     "execution_count": 8,
     "metadata": {},
     "output_type": "execute_result"
    }
   ],
   "source": [
    "amr_data.fillna('missing').value_counts('resistant_phenotype')"
   ]
  },
  {
   "cell_type": "code",
   "execution_count": 9,
   "metadata": {},
   "outputs": [],
   "source": [
    "# Drop missing targets\n",
    "amr_data = amr_data[pd.notnull(amr_data.resistant_phenotype)]"
   ]
  },
  {
   "cell_type": "markdown",
   "metadata": {},
   "source": [
    "This looks like a good starting point for building out our modeling task - genomes are large and so working with ~1,000 genomes will be around the limit we'll be able to handle during this workshop"
   ]
  },
  {
   "cell_type": "markdown",
   "metadata": {},
   "source": [
    "### 3. Download Genomes\n",
    "\n",
    "So we now have a set of AMR phenotypes (our targets) but we don't have any training data yet\n",
    "\n",
    "Lets collect our genomic data now from BV-BRC. We want to work with sequencing data directly so we'll look to download"
   ]
  },
  {
   "cell_type": "markdown",
   "metadata": {},
   "source": [
    "#### 3a. Collect Genome Metadata\n",
    "\n",
    "First lets pull all the details of the available genomes - similar to how we pulled the AMR data (again if WGET isn't installed on your system you can access the file through the `data/` folder)"
   ]
  },
  {
   "cell_type": "code",
   "execution_count": 84,
   "metadata": {},
   "outputs": [
    {
     "data": {
      "text/plain": [
       "CompletedProcess(args=['wget', 'ftp://ftp.bvbrc.org/RELEASE_NOTES/genome_summary'], returncode=0)"
      ]
     },
     "execution_count": 84,
     "metadata": {},
     "output_type": "execute_result"
    }
   ],
   "source": [
    "genome_genome_summary_ftp = 'ftp://ftp.bvbrc.org/RELEASE_NOTES/genome_summary'\n",
    "subprocess.run(['wget', genome_genome_summary_ftp], capture_output=False, stdout=subprocess.DEVNULL, stderr=subprocess.STDOUT)"
   ]
  },
  {
   "cell_type": "code",
   "execution_count": 10,
   "metadata": {},
   "outputs": [
    {
     "name": "stdout",
     "output_type": "stream",
     "text": [
      "Data shape: (1019181, 20)\n",
      "\n"
     ]
    },
    {
     "data": {
      "text/html": [
       "<div>\n",
       "<style scoped>\n",
       "    .dataframe tbody tr th:only-of-type {\n",
       "        vertical-align: middle;\n",
       "    }\n",
       "\n",
       "    .dataframe tbody tr th {\n",
       "        vertical-align: top;\n",
       "    }\n",
       "\n",
       "    .dataframe thead th {\n",
       "        text-align: right;\n",
       "    }\n",
       "</style>\n",
       "<table border=\"1\" class=\"dataframe\">\n",
       "  <thead>\n",
       "    <tr style=\"text-align: right;\">\n",
       "      <th></th>\n",
       "      <th>genome_id</th>\n",
       "      <th>genome_name</th>\n",
       "      <th>taxon_id</th>\n",
       "      <th>genome_status</th>\n",
       "      <th>genome_length</th>\n",
       "      <th>gc_content</th>\n",
       "      <th>contig_l50</th>\n",
       "      <th>contig_n50</th>\n",
       "      <th>chromosomes</th>\n",
       "      <th>plasmids</th>\n",
       "      <th>contigs</th>\n",
       "      <th>patric_cds</th>\n",
       "      <th>refseq_cds</th>\n",
       "      <th>trna</th>\n",
       "      <th>rrnacoarse_consistency</th>\n",
       "      <th>fine_consistency</th>\n",
       "      <th>checkm_completeness</th>\n",
       "      <th>checkm_contamination</th>\n",
       "      <th>genome_qualitydate_created</th>\n",
       "      <th>date_modified</th>\n",
       "    </tr>\n",
       "  </thead>\n",
       "  <tbody>\n",
       "    <tr>\n",
       "      <th>0</th>\n",
       "      <td>469009.4</td>\n",
       "      <td>\"'Brassica napus' phytoplasma strain TW1\"</td>\n",
       "      <td>469009</td>\n",
       "      <td>WGS</td>\n",
       "      <td>743598</td>\n",
       "      <td>27.23313</td>\n",
       "      <td>1.0</td>\n",
       "      <td>373899.0</td>\n",
       "      <td>NaN</td>\n",
       "      <td>NaN</td>\n",
       "      <td>5</td>\n",
       "      <td>1073.0</td>\n",
       "      <td>705.0</td>\n",
       "      <td>27.0</td>\n",
       "      <td>NaN</td>\n",
       "      <td>98.2</td>\n",
       "      <td>100.0</td>\n",
       "      <td>10.3</td>\n",
       "      <td>NaN</td>\n",
       "      <td>2018-07-15T20:38:31.410Z</td>\n",
       "    </tr>\n",
       "    <tr>\n",
       "      <th>1</th>\n",
       "      <td>1309411.5</td>\n",
       "      <td>\"'Deinococcus soli' Cha et al. 2014 strain N5\"</td>\n",
       "      <td>1309411</td>\n",
       "      <td>Complete</td>\n",
       "      <td>3236984</td>\n",
       "      <td>70.20000</td>\n",
       "      <td>1.0</td>\n",
       "      <td>3236984.0</td>\n",
       "      <td>1.0</td>\n",
       "      <td>NaN</td>\n",
       "      <td>1</td>\n",
       "      <td>3197.0</td>\n",
       "      <td>2944.0</td>\n",
       "      <td>50.0</td>\n",
       "      <td>NaN</td>\n",
       "      <td>98.1</td>\n",
       "      <td>96.9</td>\n",
       "      <td>1.0</td>\n",
       "      <td>NaN</td>\n",
       "      <td>2016-01-17T16:02:31.274Z</td>\n",
       "    </tr>\n",
       "    <tr>\n",
       "      <th>2</th>\n",
       "      <td>1123738.3</td>\n",
       "      <td>\"'Echinacea purpurea' witches'-broom phytoplas...</td>\n",
       "      <td>1123738</td>\n",
       "      <td>WGS</td>\n",
       "      <td>545427</td>\n",
       "      <td>23.89000</td>\n",
       "      <td>4.0</td>\n",
       "      <td>46697.0</td>\n",
       "      <td>NaN</td>\n",
       "      <td>NaN</td>\n",
       "      <td>28</td>\n",
       "      <td>535.0</td>\n",
       "      <td>433.0</td>\n",
       "      <td>26.0</td>\n",
       "      <td>NaN</td>\n",
       "      <td>94.6</td>\n",
       "      <td>84.0</td>\n",
       "      <td>6.4</td>\n",
       "      <td>NaN</td>\n",
       "      <td>2016-01-17T17:13:35.332Z</td>\n",
       "    </tr>\n",
       "    <tr>\n",
       "      <th>3</th>\n",
       "      <td>551115.6</td>\n",
       "      <td>\"'Nostoc azollae' 0708\"</td>\n",
       "      <td>551115</td>\n",
       "      <td>Complete</td>\n",
       "      <td>5486145</td>\n",
       "      <td>38.30000</td>\n",
       "      <td>1.0</td>\n",
       "      <td>5354700.0</td>\n",
       "      <td>1.0</td>\n",
       "      <td>2.0</td>\n",
       "      <td>3</td>\n",
       "      <td>7014.0</td>\n",
       "      <td>3651.0</td>\n",
       "      <td>0.0</td>\n",
       "      <td>NaN</td>\n",
       "      <td>99.2</td>\n",
       "      <td>99.3</td>\n",
       "      <td>0.7</td>\n",
       "      <td>NaN</td>\n",
       "      <td>2015-03-16T03:17:09.594Z</td>\n",
       "    </tr>\n",
       "    <tr>\n",
       "      <th>4</th>\n",
       "      <td>1856298.3</td>\n",
       "      <td>\"'Osedax' symbiont bacterium Rs2_46_30_T18 str...</td>\n",
       "      <td>1856298</td>\n",
       "      <td>WGS</td>\n",
       "      <td>4021833</td>\n",
       "      <td>45.76000</td>\n",
       "      <td>63.0</td>\n",
       "      <td>19390.0</td>\n",
       "      <td>NaN</td>\n",
       "      <td>NaN</td>\n",
       "      <td>365</td>\n",
       "      <td>4118.0</td>\n",
       "      <td>3690.0</td>\n",
       "      <td>59.0</td>\n",
       "      <td>NaN</td>\n",
       "      <td>88.3</td>\n",
       "      <td>98.7</td>\n",
       "      <td>3.1</td>\n",
       "      <td>NaN</td>\n",
       "      <td>2017-07-22T04:04:17.224Z</td>\n",
       "    </tr>\n",
       "  </tbody>\n",
       "</table>\n",
       "</div>"
      ],
      "text/plain": [
       "   genome_id                                        genome_name  taxon_id  \\\n",
       "0   469009.4          \"'Brassica napus' phytoplasma strain TW1\"    469009   \n",
       "1  1309411.5     \"'Deinococcus soli' Cha et al. 2014 strain N5\"   1309411   \n",
       "2  1123738.3  \"'Echinacea purpurea' witches'-broom phytoplas...   1123738   \n",
       "3   551115.6                            \"'Nostoc azollae' 0708\"    551115   \n",
       "4  1856298.3  \"'Osedax' symbiont bacterium Rs2_46_30_T18 str...   1856298   \n",
       "\n",
       "  genome_status  genome_length  gc_content  contig_l50  contig_n50  \\\n",
       "0           WGS         743598    27.23313         1.0    373899.0   \n",
       "1      Complete        3236984    70.20000         1.0   3236984.0   \n",
       "2           WGS         545427    23.89000         4.0     46697.0   \n",
       "3      Complete        5486145    38.30000         1.0   5354700.0   \n",
       "4           WGS        4021833    45.76000        63.0     19390.0   \n",
       "\n",
       "   chromosomes  plasmids  contigs  patric_cds  refseq_cds  trna  \\\n",
       "0          NaN       NaN        5      1073.0       705.0  27.0   \n",
       "1          1.0       NaN        1      3197.0      2944.0  50.0   \n",
       "2          NaN       NaN       28       535.0       433.0  26.0   \n",
       "3          1.0       2.0        3      7014.0      3651.0   0.0   \n",
       "4          NaN       NaN      365      4118.0      3690.0  59.0   \n",
       "\n",
       "   rrnacoarse_consistency  fine_consistency  checkm_completeness  \\\n",
       "0                     NaN              98.2                100.0   \n",
       "1                     NaN              98.1                 96.9   \n",
       "2                     NaN              94.6                 84.0   \n",
       "3                     NaN              99.2                 99.3   \n",
       "4                     NaN              88.3                 98.7   \n",
       "\n",
       "   checkm_contamination  genome_qualitydate_created             date_modified  \n",
       "0                  10.3                         NaN  2018-07-15T20:38:31.410Z  \n",
       "1                   1.0                         NaN  2016-01-17T16:02:31.274Z  \n",
       "2                   6.4                         NaN  2016-01-17T17:13:35.332Z  \n",
       "3                   0.7                         NaN  2015-03-16T03:17:09.594Z  \n",
       "4                   3.1                         NaN  2017-07-22T04:04:17.224Z  "
      ]
     },
     "execution_count": 10,
     "metadata": {},
     "output_type": "execute_result"
    }
   ],
   "source": [
    "genome_summary = pd.read_csv('genome_summary', sep='\\t', low_memory=False)\n",
    "print(f'Data shape: {genome_summary.shape}\\n')\n",
    "genome_summary.head(5)"
   ]
  },
  {
   "cell_type": "markdown",
   "metadata": {},
   "source": [
    "Even larger! \n",
    "\n",
    "This is why we started with the AMR data - we can use it to subset down to just samples which are useful to our modeling problem "
   ]
  },
  {
   "cell_type": "code",
   "execution_count": 11,
   "metadata": {},
   "outputs": [],
   "source": [
    "relevant_genomes = genome_summary[genome_summary.genome_id.isin(amr_data.genome_id.unique())]"
   ]
  },
  {
   "cell_type": "code",
   "execution_count": 12,
   "metadata": {},
   "outputs": [
    {
     "data": {
      "text/plain": [
       "genome_status\n",
       "WGS           1103\n",
       "Complete        56\n",
       "Deprecated       1\n",
       "Name: count, dtype: int64"
      ]
     },
     "execution_count": 12,
     "metadata": {},
     "output_type": "execute_result"
    }
   ],
   "source": [
    "relevant_genomes.value_counts('genome_status')"
   ]
  },
  {
   "cell_type": "code",
   "execution_count": 13,
   "metadata": {},
   "outputs": [],
   "source": [
    "# Drop deprecated genomes & duplicates\n",
    "relevant_genomes = relevant_genomes[relevant_genomes.genome_status != 'Deprecated']\n",
    "relevant_genomes = relevant_genomes.drop_duplicates('genome_id')"
   ]
  },
  {
   "cell_type": "code",
   "execution_count": 14,
   "metadata": {},
   "outputs": [
    {
     "data": {
      "text/plain": [
       "genome_status\n",
       "WGS         1031\n",
       "Complete      48\n",
       "Name: count, dtype: int64"
      ]
     },
     "execution_count": 14,
     "metadata": {},
     "output_type": "execute_result"
    }
   ],
   "source": [
    "relevant_genomes.value_counts('genome_status')"
   ]
  },
  {
   "cell_type": "markdown",
   "metadata": {},
   "source": [
    "#### 3b. Download Genomes\n",
    "\n",
    "Now we have the metadata we'll need to download the genomes themselves. As we can see above, all of our data is either WGS or Complete - in our case these are equivalent and represent that the data has been sequenced, assembled and uploaded to BV-BRC.\n",
    "\n",
    "We can download these assemblies using command line tools again - this time we'll need to download each genome one at a time.\n",
    "\n",
    "The FTP link we'll be using is of the format (.FNA = FASTA format):\n",
    "```\n",
    "ftp://ftp.bvbrc.org/genomes/$genome_id/$genome_id.fna\n",
    "```\n",
    "\n",
    "where `$genome_id` = our genome_id for each sample"
   ]
  },
  {
   "cell_type": "code",
   "execution_count": 15,
   "metadata": {},
   "outputs": [],
   "source": [
    "# Iterate through the genome IDs and download each one\n",
    "for i, genome_id in enumerate(relevant_genomes.genome_id[0:5]):\n",
    "    sample_assembly_path = f'ftp://ftp.bvbrc.org/genomes/{genome_id}/{genome_id}.fna'\n",
    "    subprocess.run(\n",
    "        ['wget', sample_assembly_path, '-P', '../data/genomes/'], \n",
    "        capture_output=False, \n",
    "        stdout=subprocess.DEVNULL, \n",
    "        stderr=subprocess.STDOUT\n",
    "    )"
   ]
  },
  {
   "cell_type": "markdown",
   "metadata": {},
   "source": [
    "##### Notes:\n",
    "\n",
    "- Downloading all 1000 fasta files would take 15-25 minutes to complete the download process for all files\n",
    "- Each assembly file is ~5MB in size and there are 1,000 hence our dataset will end up at ~5GB in size\n",
    "- Instead of waiting for the full download the files have already been downloaded and stored for you in the course data directory under `genomes/`"
   ]
  },
  {
   "cell_type": "markdown",
   "metadata": {},
   "source": [
    "### 4. Process CARD Data\n",
    "\n",
    "5GB worth of sequencing data is going to be very difficult to work with, luckily we chose a well documented species/drug combination in Escherichia coli + cefepime and hence we can leverage existing knowledge of relevant resistance mechanisms.\n",
    "\n",
    "In looking for only known resistance genes (portions of the genome which are known to confer resistances) we can subset each genome down to a much smaller set of sequences to work with.\n",
    "\n",
    "To do so we're going to need to build up a FASTA of useful genes which we can use to subset our samples - this is where CARD comes in!"
   ]
  },
  {
   "cell_type": "markdown",
   "metadata": {},
   "source": [
    "#### 4a. Download CARD Data"
   ]
  },
  {
   "cell_type": "code",
   "execution_count": 16,
   "metadata": {},
   "outputs": [],
   "source": [
    "card_data_url = 'https://card.mcmaster.ca/download/0/broadstreet-v3.2.9.tar.bz2'\n",
    "subprocess.run(\n",
    "    ['wget', card_data_url, '-P', '../data/'], \n",
    "    capture_output=False, \n",
    "    stdout=subprocess.DEVNULL, \n",
    "    stderr=subprocess.STDOUT\n",
    ")\n",
    "os.rename('../data/broadstreet-v3.2.9.tar.bz2', '../data/card_data.tar.bz2')"
   ]
  },
  {
   "cell_type": "markdown",
   "metadata": {},
   "source": [
    "This file needs decompressing - the easiest way will be to navigate to the file in your file browser and unzip it using your OS. You should see a `card_data.tar.bz2` file within your data folder, unzip this and take a look around."
   ]
  },
  {
   "cell_type": "markdown",
   "metadata": {},
   "source": [
    "#### 4b. Generate a Single combined CARD dataset\n",
    "\n",
    "CARD splits the different types of resistance mechanisms out into different FASTA files (e.g. homolog, variant, knockout).\n",
    "\n",
    "These are actually really important when using the CARD data, for example:\n",
    "1. Homologs are inherited genes or sequences that if present confer resistance\n",
    "2. Variants are references sequences that when a mutation occurs within specific locations, a resistance is conferred\n",
    "\n",
    "Clearly 1 and 2 are very different: finding a sequencing for 1 mean we expect to see an increase in resistance whereas seeing a sequencing from 2 is meaningless without also seeing the specific mutations.\n",
    "\n",
    "The way we're going to use this data however is to align to our sample's genomes and leave some flexbility in the alignment (see the W2_exercise) so we can then use Machine Learning to pick out the important features in either case.\n",
    "\n",
    "To start with - lets combine all our \"nucleotide\" models (using ACGT DNA bases) into a single FASTA to make it easier to work with."
   ]
  },
  {
   "cell_type": "code",
   "execution_count": 17,
   "metadata": {},
   "outputs": [
    {
     "name": "stdout",
     "output_type": "stream",
     "text": [
      "nucleotide_fasta_protein_variant_model.fasta\n",
      "376\n",
      "nucleotide_fasta_protein_overexpression_model.fasta\n",
      "30\n",
      "nucleotide_fasta_protein_knockout_model.fasta\n",
      "36\n",
      "nucleotide_fasta_rRNA_gene_variant_model.fasta\n",
      "174\n",
      "nucleotide_fasta_protein_homolog_model.fasta\n",
      "9610\n"
     ]
    }
   ],
   "source": [
    "# Loop through out nucleotide FASTA files and join\n",
    "fasta_models = []\n",
    "for file_name in os.listdir('../data/card_data/'):\n",
    "    if file_name.startswith('nucleotide_'):\n",
    "        print(file_name)\n",
    "        with open(f'../data/card_data/{file_name}') as f:\n",
    "            fasta = f.readlines()\n",
    "            print(len(fasta))\n",
    "            fasta_models.extend(fasta)\n",
    "\n",
    "# Write back out as combined\n",
    "with open(f'../data/card_data/nucleotide_combined_model.fasta', 'w') as f:\n",
    "    f.writelines(fasta_models)"
   ]
  },
  {
   "cell_type": "markdown",
   "metadata": {},
   "source": [
    "### 5. Save out all our Data\n"
   ]
  },
  {
   "cell_type": "code",
   "execution_count": 18,
   "metadata": {},
   "outputs": [],
   "source": [
    "# Save AMR data\n",
    "amr_data.to_csv('../data/amr_data.csv')\n",
    "\n",
    "# Save Genome summary\n",
    "relevant_genomes.to_csv('../data/e_coli_summary_data.csv')"
   ]
  }
 ],
 "metadata": {
  "kernelspec": {
   "display_name": "Python 3 (ipykernel)",
   "language": "python",
   "name": "python3"
  },
  "language_info": {
   "codemirror_mode": {
    "name": "ipython",
    "version": 3
   },
   "file_extension": ".py",
   "mimetype": "text/x-python",
   "name": "python",
   "nbconvert_exporter": "python",
   "pygments_lexer": "ipython3",
   "version": "3.11.5"
  }
 },
 "nbformat": 4,
 "nbformat_minor": 4
}
